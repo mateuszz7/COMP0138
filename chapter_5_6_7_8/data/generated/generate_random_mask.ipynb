{
 "cells": [
  {
   "cell_type": "code",
   "execution_count": 1,
   "metadata": {},
   "outputs": [],
   "source": [
    "import numpy as np\n",
    "import json\n",
    "\n",
    "LENGTH_TO_GENERATE = (12 * 11) + 1\n",
    "\n",
    "random_mask = np.random.choice([-1,1], size=LENGTH_TO_GENERATE)\n",
    "with open('random_mask.json', 'w') as f:\n",
    "    json.dump({'random_mask': random_mask.tolist()}, f)\n"
   ]
  }
 ],
 "metadata": {
  "interpreter": {
   "hash": "778760e6a2caf70a689d9bca5c5b5f213a353e6146834a544f7e2270be5fe8d2"
  },
  "kernelspec": {
   "display_name": "Python 3.9.13 ('ml_tf')",
   "language": "python",
   "name": "python3"
  },
  "language_info": {
   "codemirror_mode": {
    "name": "ipython",
    "version": 3
   },
   "file_extension": ".py",
   "mimetype": "text/x-python",
   "name": "python",
   "nbconvert_exporter": "python",
   "pygments_lexer": "ipython3",
   "version": "3.9.13"
  },
  "orig_nbformat": 4
 },
 "nbformat": 4,
 "nbformat_minor": 2
}
