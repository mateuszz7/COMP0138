{
 "cells": [
  {
   "cell_type": "code",
   "execution_count": null,
   "metadata": {},
   "outputs": [],
   "source": [
    "from Optimisation import run_bayesian_optimisation\n",
    "from NNs import *\n",
    "\n",
    "pbounds = {'rnn_units':(2,50),              # units in rnn layer #75\n",
    "               'epochs':(200,1000),           # epochs to train for\n",
    "               'lr_power':(-4, -2),         # learning rate = 10^lr_power #-5\n",
    "               'edl_coeff': (1e-10, 2),      # evidence regularizer coefficent #1e-2, 2\n",
    "               }\n",
    "\n",
    "run_bayesian_optimisation('Results/FI_ERNN/', 'ili', iterations=100, pbounds=pbounds, model=FI_ERNN)"
   ]
  }
 ],
 "metadata": {
  "kernelspec": {
   "display_name": "ml",
   "language": "python",
   "name": "python3"
  },
  "language_info": {
   "codemirror_mode": {
    "name": "ipython",
    "version": 3
   },
   "file_extension": ".py",
   "mimetype": "text/x-python",
   "name": "python",
   "nbconvert_exporter": "python",
   "pygments_lexer": "ipython3",
   "version": "3.9.13"
  },
  "orig_nbformat": 4,
  "vscode": {
   "interpreter": {
    "hash": "ca041d56af3d7f10094f28ea1041d4bc57533825d9334742e0359c59e0407c07"
   }
  }
 },
 "nbformat": 4,
 "nbformat_minor": 2
}
