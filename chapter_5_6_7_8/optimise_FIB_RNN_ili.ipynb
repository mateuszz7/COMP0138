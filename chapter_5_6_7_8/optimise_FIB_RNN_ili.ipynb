{
 "cells": [
  {
   "cell_type": "code",
   "execution_count": null,
   "metadata": {},
   "outputs": [],
   "source": [
    "from Optimisation import run_bayesian_optimisation\n",
    "from NNs import *\n",
    "\n",
    "pbounds = {'rnn_units':(2,50),        # units in rnn layer\n",
    "               'kl_power':(-5,0),           # KL annealing term = 10^kl_power\n",
    "               'op_scale':(0.001, 0.1),      # scaling factor for output\n",
    "               'prior_scale':(1e-10, 1e-1),  # prior stddev\n",
    "               'epochs':(200,500),           # epochs to train for\n",
    "               'lr_power':(-4, -2),         # learning rate = 10^lr_power\n",
    "               'q_scale':(0.001, 0.1),       # posterior scaling factor1\n",
    "               }\n",
    "\n",
    "run_bayesian_optimisation('Results/FIB_RNN_ili/', 'ili', iterations=100, pbounds=pbounds, model=FIB_RNN)"
   ]
  }
 ],
 "metadata": {
  "kernelspec": {
   "display_name": "ml",
   "language": "python",
   "name": "python3"
  },
  "language_info": {
   "codemirror_mode": {
    "name": "ipython",
    "version": 3
   },
   "file_extension": ".py",
   "mimetype": "text/x-python",
   "name": "python",
   "nbconvert_exporter": "python",
   "pygments_lexer": "ipython3",
   "version": "3.9.13"
  },
  "orig_nbformat": 4,
  "vscode": {
   "interpreter": {
    "hash": "ca041d56af3d7f10094f28ea1041d4bc57533825d9334742e0359c59e0407c07"
   }
  }
 },
 "nbformat": 4,
 "nbformat_minor": 2
}
