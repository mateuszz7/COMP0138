{
 "cells": [
  {
   "cell_type": "code",
   "execution_count": 3,
   "metadata": {},
   "outputs": [
    {
     "name": "stdout",
     "output_type": "stream",
     "text": [
      "MAE: 0.5932019501924515(3.7%)\n",
      "MSE: 0.7962303385138512(10.7%)\n",
      "NLL: 1.000425100326538(11.2%)\n",
      "CRPS: 0.4327756240963936(4.6%)\n",
      "Skill: 0.3893733471632004(7.9%)\n",
      "r: 0.791214211594811(5.9%)\n",
      "FI_BRNN relative performance: 7.3%\n",
      "\n",
      "MAE: 0.6515117436647415(-5.8%)\n",
      "MSE: 1.1804513037204742(-32.4%)\n",
      "NLL: 1.107277736067772(1.7%)\n",
      "CRPS: 0.5092011094093323(-12.3%)\n",
      "Skill: 0.33410999178886414(-7.4%)\n",
      "r: 0.8360632773524822(11.9%)\n",
      "FI_ERNN relative performance: -7.4%\n"
     ]
    }
   ],
   "source": [
    "FIB_RNN = {\n",
    "\"MAE\":  0.615702249109745 ,\n",
    "\"MSE\": 0.8912926837801933 ,\n",
    "\"NLL\":  1.1261956691741943 ,\n",
    "\"CRPS\":  0.4534774646162987 ,\n",
    "\"Skill\":  0.36076292395591736 ,\n",
    "\"r\":  0.7469083799939396\n",
    "}\n",
    "\n",
    "FI_BRNN = {\n",
    "\"MAE\":  0.5932019501924515 ,\n",
    "\"MSE\": 0.7962303385138512 ,\n",
    "\"NLL\":  1.000425100326538 ,\n",
    "\"CRPS\":  0.4327756240963936 ,\n",
    "\"Skill\":  0.3893733471632004 ,\n",
    "\"r\":  0.791214211594811\n",
    "}\n",
    "\n",
    "FI_ERNN = {\n",
    "\"MAE\":  0.6515117436647415 ,\n",
    "\"MSE\": 1.1804513037204742 ,\n",
    "\"NLL\":  1.107277736067772 ,\n",
    "\"CRPS\":  0.5092011094093323 ,\n",
    "\"Skill\":  0.33410999178886414 ,\n",
    "\"r\":  0.8360632773524822\n",
    "}\n",
    "\n",
    "higher_is_better = ['Skill', 'r']\n",
    "fi_brnn = 0\n",
    "fi_ernn = 0\n",
    "for name, value in FIB_RNN.items():\n",
    "    multiplier = -1\n",
    "    if name in higher_is_better:\n",
    "        multiplier = 1\n",
    "\n",
    "    fi_brnn_percentage = 100 + multiplier * (((FI_BRNN[name] - value) / value) * 100)\n",
    "    FI_BRNN[name + '_p'] = fi_brnn_percentage - 100\n",
    "    fi_brnn += fi_brnn_percentage\n",
    "\n",
    "    fi_ernn_percentage = 100 + multiplier * (((FI_ERNN[name] - value) / value) * 100)\n",
    "    FI_ERNN[name + '_p'] = fi_ernn_percentage - 100\n",
    "    fi_ernn += fi_ernn_percentage\n",
    "\n",
    "fi_brnn = (fi_brnn / len(FIB_RNN)) - 100\n",
    "fi_ernn = (fi_ernn / len(FIB_RNN)) - 100\n",
    "\n",
    "for name in FIB_RNN.keys():\n",
    "    print('{}: {}({:.1f}%)'.format(name, FI_BRNN[name], FI_BRNN[name + '_p']))\n",
    "print('FI_BRNN relative performance: {:.1f}%'.format(fi_brnn))\n",
    "\n",
    "print()\n",
    "\n",
    "for name in FIB_RNN.keys():\n",
    "    print('{}: {}({:.1f}%)'.format(name, FI_ERNN[name], FI_ERNN[name + '_p']))\n",
    "print('FI_ERNN relative performance: {:.1f}%'.format(fi_ernn))"
   ]
  }
 ],
 "metadata": {
  "interpreter": {
   "hash": "778760e6a2caf70a689d9bca5c5b5f213a353e6146834a544f7e2270be5fe8d2"
  },
  "kernelspec": {
   "display_name": "Python 3.9.13 ('ml_tf')",
   "language": "python",
   "name": "python3"
  },
  "language_info": {
   "codemirror_mode": {
    "name": "ipython",
    "version": 3
   },
   "file_extension": ".py",
   "mimetype": "text/x-python",
   "name": "python",
   "nbconvert_exporter": "python",
   "pygments_lexer": "ipython3",
   "version": "3.9.13"
  },
  "orig_nbformat": 4
 },
 "nbformat": 4,
 "nbformat_minor": 2
}
